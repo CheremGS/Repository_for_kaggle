{
 "cells": [
  {
   "cell_type": "markdown",
   "metadata": {},
   "source": [
    "https://www.kaggle.com/c/titanic"
   ]
  },
  {
   "cell_type": "code",
   "execution_count": 1,
   "metadata": {},
   "outputs": [],
   "source": [
    "import numpy as np\n",
    "import pandas as pd\n",
    "import matplotlib.pyplot as plt\n",
    "import seaborn as sns\n",
    "import pylab"
   ]
  },
  {
   "cell_type": "code",
   "execution_count": 2,
   "metadata": {},
   "outputs": [
    {
     "data": {
      "text/html": [
       "<div>\n",
       "<style scoped>\n",
       "    .dataframe tbody tr th:only-of-type {\n",
       "        vertical-align: middle;\n",
       "    }\n",
       "\n",
       "    .dataframe tbody tr th {\n",
       "        vertical-align: top;\n",
       "    }\n",
       "\n",
       "    .dataframe thead th {\n",
       "        text-align: right;\n",
       "    }\n",
       "</style>\n",
       "<table border=\"1\" class=\"dataframe\">\n",
       "  <thead>\n",
       "    <tr style=\"text-align: right;\">\n",
       "      <th></th>\n",
       "      <th>PassengerId</th>\n",
       "      <th>Survived</th>\n",
       "      <th>Pclass</th>\n",
       "      <th>Name</th>\n",
       "      <th>Sex</th>\n",
       "      <th>Age</th>\n",
       "      <th>SibSp</th>\n",
       "      <th>Parch</th>\n",
       "      <th>Ticket</th>\n",
       "      <th>Fare</th>\n",
       "      <th>Cabin</th>\n",
       "      <th>Embarked</th>\n",
       "    </tr>\n",
       "  </thead>\n",
       "  <tbody>\n",
       "    <tr>\n",
       "      <th>0</th>\n",
       "      <td>1</td>\n",
       "      <td>0</td>\n",
       "      <td>3</td>\n",
       "      <td>Braund, Mr. Owen Harris</td>\n",
       "      <td>male</td>\n",
       "      <td>22.0</td>\n",
       "      <td>1</td>\n",
       "      <td>0</td>\n",
       "      <td>A/5 21171</td>\n",
       "      <td>7.2500</td>\n",
       "      <td>NaN</td>\n",
       "      <td>S</td>\n",
       "    </tr>\n",
       "    <tr>\n",
       "      <th>1</th>\n",
       "      <td>2</td>\n",
       "      <td>1</td>\n",
       "      <td>1</td>\n",
       "      <td>Cumings, Mrs. John Bradley (Florence Briggs Th...</td>\n",
       "      <td>female</td>\n",
       "      <td>38.0</td>\n",
       "      <td>1</td>\n",
       "      <td>0</td>\n",
       "      <td>PC 17599</td>\n",
       "      <td>71.2833</td>\n",
       "      <td>C85</td>\n",
       "      <td>C</td>\n",
       "    </tr>\n",
       "    <tr>\n",
       "      <th>2</th>\n",
       "      <td>3</td>\n",
       "      <td>1</td>\n",
       "      <td>3</td>\n",
       "      <td>Heikkinen, Miss. Laina</td>\n",
       "      <td>female</td>\n",
       "      <td>26.0</td>\n",
       "      <td>0</td>\n",
       "      <td>0</td>\n",
       "      <td>STON/O2. 3101282</td>\n",
       "      <td>7.9250</td>\n",
       "      <td>NaN</td>\n",
       "      <td>S</td>\n",
       "    </tr>\n",
       "    <tr>\n",
       "      <th>3</th>\n",
       "      <td>4</td>\n",
       "      <td>1</td>\n",
       "      <td>1</td>\n",
       "      <td>Futrelle, Mrs. Jacques Heath (Lily May Peel)</td>\n",
       "      <td>female</td>\n",
       "      <td>35.0</td>\n",
       "      <td>1</td>\n",
       "      <td>0</td>\n",
       "      <td>113803</td>\n",
       "      <td>53.1000</td>\n",
       "      <td>C123</td>\n",
       "      <td>S</td>\n",
       "    </tr>\n",
       "    <tr>\n",
       "      <th>4</th>\n",
       "      <td>5</td>\n",
       "      <td>0</td>\n",
       "      <td>3</td>\n",
       "      <td>Allen, Mr. William Henry</td>\n",
       "      <td>male</td>\n",
       "      <td>35.0</td>\n",
       "      <td>0</td>\n",
       "      <td>0</td>\n",
       "      <td>373450</td>\n",
       "      <td>8.0500</td>\n",
       "      <td>NaN</td>\n",
       "      <td>S</td>\n",
       "    </tr>\n",
       "  </tbody>\n",
       "</table>\n",
       "</div>"
      ],
      "text/plain": [
       "   PassengerId  Survived  Pclass  \\\n",
       "0            1         0       3   \n",
       "1            2         1       1   \n",
       "2            3         1       3   \n",
       "3            4         1       1   \n",
       "4            5         0       3   \n",
       "\n",
       "                                                Name     Sex   Age  SibSp  \\\n",
       "0                            Braund, Mr. Owen Harris    male  22.0      1   \n",
       "1  Cumings, Mrs. John Bradley (Florence Briggs Th...  female  38.0      1   \n",
       "2                             Heikkinen, Miss. Laina  female  26.0      0   \n",
       "3       Futrelle, Mrs. Jacques Heath (Lily May Peel)  female  35.0      1   \n",
       "4                           Allen, Mr. William Henry    male  35.0      0   \n",
       "\n",
       "   Parch            Ticket     Fare Cabin Embarked  \n",
       "0      0         A/5 21171   7.2500   NaN        S  \n",
       "1      0          PC 17599  71.2833   C85        C  \n",
       "2      0  STON/O2. 3101282   7.9250   NaN        S  \n",
       "3      0            113803  53.1000  C123        S  \n",
       "4      0            373450   8.0500   NaN        S  "
      ]
     },
     "execution_count": 2,
     "metadata": {},
     "output_type": "execute_result"
    }
   ],
   "source": [
    "df = pd.read_csv('train.csv')\n",
    "df.head()"
   ]
  },
  {
   "cell_type": "markdown",
   "metadata": {},
   "source": [
    "## Starting performs, new features"
   ]
  },
  {
   "cell_type": "code",
   "execution_count": 3,
   "metadata": {},
   "outputs": [
    {
     "data": {
      "text/plain": [
       "Age         177\n",
       "Cabin       687\n",
       "Embarked      2\n",
       "dtype: int64"
      ]
     },
     "execution_count": 3,
     "metadata": {},
     "output_type": "execute_result"
    }
   ],
   "source": [
    "df.isnull().sum()[df.isnull().sum() > 0]"
   ]
  },
  {
   "cell_type": "code",
   "execution_count": 4,
   "metadata": {},
   "outputs": [],
   "source": [
    "len(df.PassengerId.unique()) == df.shape[0] # True\n",
    "df.drop('PassengerId', axis = 1, inplace = True)"
   ]
  },
  {
   "cell_type": "code",
   "execution_count": 5,
   "metadata": {},
   "outputs": [
    {
     "data": {
      "text/plain": [
       "0.7643097643097643"
      ]
     },
     "execution_count": 5,
     "metadata": {},
     "output_type": "execute_result"
    }
   ],
   "source": [
    "(df.Ticket.nunique())/df.shape[0] # delete feature ticket not bad idea, proportion of distinct values is high"
   ]
  },
  {
   "cell_type": "code",
   "execution_count": 6,
   "metadata": {},
   "outputs": [],
   "source": [
    "df['Family'] = df.SibSp + df.Parch\n",
    "df['Greeting'] = df.Name.apply(lambda name: name[name.index(',') + 1 : name.index('.')])\n",
    "df['Lone_male_passenger'] = np.where((df['Family'] == 0) & (df['Sex'] == 'male'), 1, 0)\n",
    "df['Not_alone_male_passenger'] = np.where((df['Family'] != 0) & (df['Sex'] == 'male') & (df['Age'] > 20), 1, 0)"
   ]
  },
  {
   "cell_type": "markdown",
   "metadata": {},
   "source": [
    "## Fill the gaps"
   ]
  },
  {
   "cell_type": "code",
   "execution_count": 7,
   "metadata": {},
   "outputs": [
    {
     "data": {
      "text/plain": [
       "Age         177\n",
       "Cabin       687\n",
       "Embarked      2\n",
       "dtype: int64"
      ]
     },
     "execution_count": 7,
     "metadata": {},
     "output_type": "execute_result"
    },
    {
     "data": {
      "image/png": "[encoded data removed]",
      "text/plain": [
       "<Figure size 432x288 with 1 Axes>"
      ]
     },
     "metadata": {
      "needs_background": "light"
     },
     "output_type": "display_data"
    }
   ],
   "source": [
    "sns.barplot(x = df.isnull().sum()[df.isnull().sum() > 0].values, y = df.isnull().sum()[df.isnull().sum() > 0].index)\n",
    "df.isnull().sum()[df.isnull().sum() > 0]"
   ]
  },
  {
   "cell_type": "code",
   "execution_count": 8,
   "metadata": {},
   "outputs": [
    {
     "name": "stdout",
     "output_type": "stream",
     "text": [
      "Known values of cabins: 0.6666666666666666\n",
      "Nans-values of cabins: 0.29985443959243085\n"
     ]
    }
   ],
   "source": [
    "print('Known values of cabins:', df[df.Cabin.notnull()].Survived.sum()/df[df.Cabin.notnull()].shape[0])\n",
    "print('Nans-values of cabins:', df[df.Cabin.isnull()].Survived.sum()/df[df.Cabin.isnull()].shape[0])"
   ]
  },
  {
   "cell_type": "code",
   "execution_count": 9,
   "metadata": {},
   "outputs": [],
   "source": [
    "df['Known_Cabin'] = df.Cabin.notnull()\n",
    "df.Cabin.fillna('N', inplace = True)\n",
    "df.Cabin = df.Cabin.apply(lambda x: x[0])"
   ]
  },
  {
   "cell_type": "code",
   "execution_count": 10,
   "metadata": {},
   "outputs": [],
   "source": [
    "df.Embarked.fillna(df.Embarked.mode()[0], inplace = True)"
   ]
  },
  {
   "cell_type": "code",
   "execution_count": 11,
   "metadata": {},
   "outputs": [],
   "source": [
    "greet_na = df.Greeting[df.Age.isnull()].value_counts().index\n",
    "dit = {x: df[(df['Greeting'] == x) & (df.Age.notnull())].Age.median() for x in greet_na}\n",
    "for i in df.index:\n",
    "    if df.loc[i, 'Age'] != df.loc[i, 'Age']:\n",
    "        df.loc[i, 'Age'] = dit[df.loc[i, 'Greeting']]"
   ]
  },
  {
   "cell_type": "code",
   "execution_count": 12,
   "metadata": {},
   "outputs": [
    {
     "data": {
      "text/plain": [
       "<matplotlib.axes._subplots.AxesSubplot at 0x1fc69792ac8>"
      ]
     },
     "execution_count": 12,
     "metadata": {},
     "output_type": "execute_result"
    },
    {
     "data": {
      "image/png": "[encoded data removed]",
      "text/plain": [
       "<Figure size 432x288 with 1 Axes>"
      ]
     },
     "metadata": {
      "needs_background": "light"
     },
     "output_type": "display_data"
    }
   ],
   "source": [
    "df['Round_Age'] = np.around(df['Age'] + 5, -1)\n",
    "sns.countplot(df['Round_Age'], hue = df.Survived)"
   ]
  },
  {
   "cell_type": "code",
   "execution_count": 13,
   "metadata": {},
   "outputs": [
    {
     "data": {
      "image/png": "[encoded data removed]",
      "text/plain": [
       "<Figure size 864x360 with 1 Axes>"
      ]
     },
     "metadata": {
      "needs_background": "light"
     },
     "output_type": "display_data"
    }
   ],
   "source": [
    "plt.figure(figsize = (12, 5))\n",
    "df['Round_Fare'] = np.around(df.Fare, -1)\n",
    "sns.countplot(df['Round_Fare'], hue = df.Survived)\n",
    "\n",
    "def cat_fare(mas):\n",
    "    cat = np.where(mas <= 10, 1, mas)\n",
    "    cat = np.where((cat == 20) | (cat == 30), 2, cat)\n",
    "    cat = np.where((cat == 40) | (cat == 50), 3, cat)\n",
    "    cat = np.where((cat == 60) | (cat >= 80), 5, cat)\n",
    "    cat = np.where((cat == 70), 4, cat)\n",
    "    \n",
    "    return cat.astype('str')\n",
    "\n",
    "df['Round_Fare'] = cat_fare(np.around(df.Fare, -1))"
   ]
  },
  {
   "cell_type": "code",
   "execution_count": 14,
   "metadata": {},
   "outputs": [
    {
     "data": {
      "text/plain": [
       "<matplotlib.axes._subplots.AxesSubplot at 0x1fc698574e0>"
      ]
     },
     "execution_count": 14,
     "metadata": {},
     "output_type": "execute_result"
    },
    {
     "data": {
      "image/png": "[encoded data removed]",
      "text/plain": [
       "<Figure size 432x288 with 1 Axes>"
      ]
     },
     "metadata": {
      "needs_background": "light"
     },
     "output_type": "display_data"
    }
   ],
   "source": [
    "sns.countplot(df['Round_Fare'], hue = df.Survived)"
   ]
  },
  {
   "cell_type": "markdown",
   "metadata": {},
   "source": [
    "## Visualisation features"
   ]
  },
  {
   "cell_type": "markdown",
   "metadata": {},
   "source": [
    "### Barplots"
   ]
  },
  {
   "cell_type": "code",
   "execution_count": 15,
   "metadata": {},
   "outputs": [
    {
     "data": {
      "image/png": "[encoded data removed]",
      "text/plain": [
       "<Figure size 864x360 with 1 Axes>"
      ]
     },
     "metadata": {
      "needs_background": "light"
     },
     "output_type": "display_data"
    }
   ],
   "source": [
    "plt.figure(figsize = (12, 5))\n",
    "df.Greeting = df.Greeting.apply(lambda x: x if x in df.Greeting.value_counts()[:3] else 'Other')\n",
    "df.Greeting.value_counts()\n",
    "sns.set_color_codes(\"pastel\")\n",
    "sns.barplot(x = df.Greeting.unique(), y = df.Greeting.value_counts().values, color = 'g')\n",
    "\n",
    "sns.set_color_codes(\"muted\")\n",
    "sns.barplot(x = df[df.Survived == 1].Greeting.unique(), y = df[df.Survived == 1].Greeting.value_counts().values, color = 'r')\n",
    "plt.title('Probability of surviving depending on salutation')\n",
    "plt.text(2, 450, s = 'Green - count of survived, red - count of death')\n",
    "plt.show()"
   ]
  },
  {
   "cell_type": "code",
   "execution_count": 16,
   "metadata": {
    "scrolled": true
   },
   "outputs": [
    {
     "data": {
      "image/png": "[encoded data removed]",
      "text/plain": [
       "<Figure size 864x864 with 9 Axes>"
      ]
     },
     "metadata": {
      "needs_background": "light"
     },
     "output_type": "display_data"
    }
   ],
   "source": [
    "i = 0\n",
    "plt.figure(figsize = (12, 12))\n",
    "for column in ['Pclass', 'Sex', 'Embarked', 'Known_Cabin', 'Family', 'Cabin', 'Round_Fare', 'SibSp', 'Parch']:\n",
    "    i += 1\n",
    "    pylab.subplot(3, 3, i)\n",
    "    sns.barplot(x = column, y = 'Survived', data = df)\n",
    "    plt.tight_layout()"
   ]
  },
  {
   "cell_type": "markdown",
   "metadata": {},
   "source": [
    "All features, except cabin, have different proportion of survived in target classes"
   ]
  },
  {
   "cell_type": "markdown",
   "metadata": {},
   "source": [
    "### Distribution plots"
   ]
  },
  {
   "cell_type": "code",
   "execution_count": 17,
   "metadata": {},
   "outputs": [
    {
     "data": {
      "image/png": "[encoded data removed]",
      "text/plain": [
       "<Figure size 432x288 with 1 Axes>"
      ]
     },
     "metadata": {
      "needs_background": "light"
     },
     "output_type": "display_data"
    }
   ],
   "source": [
    "sns.distplot(df[df.Survived == 0].Fare)\n",
    "sns.distplot(df[df.Survived == 1].Fare)\n",
    "plt.title('Fare of tickets in target classes')\n",
    "plt.show()"
   ]
  },
  {
   "cell_type": "code",
   "execution_count": 18,
   "metadata": {},
   "outputs": [
    {
     "data": {
      "image/png": "[encoded data removed]",
      "text/plain": [
       "<Figure size 432x288 with 1 Axes>"
      ]
     },
     "metadata": {
      "needs_background": "light"
     },
     "output_type": "display_data"
    }
   ],
   "source": [
    "sns.distplot(df[df.Survived == 0].Age)\n",
    "sns.distplot(df[df.Survived == 1].Age)\n",
    "plt.title('Age in target classes')\n",
    "plt.show()"
   ]
  },
  {
   "cell_type": "markdown",
   "metadata": {},
   "source": [
    "## Preparing features for model"
   ]
  },
  {
   "cell_type": "code",
   "execution_count": 19,
   "metadata": {},
   "outputs": [],
   "source": [
    "df.drop(['Ticket', 'Greeting', 'Cabin', 'Name', 'Family', 'Age', 'Fare'], axis = 1, inplace = True)"
   ]
  },
  {
   "cell_type": "code",
   "execution_count": 20,
   "metadata": {},
   "outputs": [],
   "source": [
    "cat_fs = df.select_dtypes('O')"
   ]
  },
  {
   "cell_type": "code",
   "execution_count": 21,
   "metadata": {},
   "outputs": [
    {
     "data": {
      "text/html": [
       "<div>\n",
       "<style scoped>\n",
       "    .dataframe tbody tr th:only-of-type {\n",
       "        vertical-align: middle;\n",
       "    }\n",
       "\n",
       "    .dataframe tbody tr th {\n",
       "        vertical-align: top;\n",
       "    }\n",
       "\n",
       "    .dataframe thead th {\n",
       "        text-align: right;\n",
       "    }\n",
       "</style>\n",
       "<table border=\"1\" class=\"dataframe\">\n",
       "  <thead>\n",
       "    <tr style=\"text-align: right;\">\n",
       "      <th></th>\n",
       "      <th>Survived</th>\n",
       "      <th>Pclass</th>\n",
       "      <th>Sex</th>\n",
       "      <th>SibSp</th>\n",
       "      <th>Parch</th>\n",
       "      <th>Embarked</th>\n",
       "      <th>Lone_male_passenger</th>\n",
       "      <th>Not_alone_male_passenger</th>\n",
       "      <th>Known_Cabin</th>\n",
       "      <th>Round_Age</th>\n",
       "      <th>...</th>\n",
       "      <th>Sex_female</th>\n",
       "      <th>Sex_male</th>\n",
       "      <th>Embarked_C</th>\n",
       "      <th>Embarked_Q</th>\n",
       "      <th>Embarked_S</th>\n",
       "      <th>Round_Fare_1.0</th>\n",
       "      <th>Round_Fare_2.0</th>\n",
       "      <th>Round_Fare_3.0</th>\n",
       "      <th>Round_Fare_4.0</th>\n",
       "      <th>Round_Fare_5.0</th>\n",
       "    </tr>\n",
       "  </thead>\n",
       "  <tbody>\n",
       "    <tr>\n",
       "      <th>0</th>\n",
       "      <td>0</td>\n",
       "      <td>3</td>\n",
       "      <td>male</td>\n",
       "      <td>1</td>\n",
       "      <td>0</td>\n",
       "      <td>S</td>\n",
       "      <td>0</td>\n",
       "      <td>1</td>\n",
       "      <td>False</td>\n",
       "      <td>30.0</td>\n",
       "      <td>...</td>\n",
       "      <td>0</td>\n",
       "      <td>1</td>\n",
       "      <td>0</td>\n",
       "      <td>0</td>\n",
       "      <td>1</td>\n",
       "      <td>1</td>\n",
       "      <td>0</td>\n",
       "      <td>0</td>\n",
       "      <td>0</td>\n",
       "      <td>0</td>\n",
       "    </tr>\n",
       "    <tr>\n",
       "      <th>1</th>\n",
       "      <td>1</td>\n",
       "      <td>1</td>\n",
       "      <td>female</td>\n",
       "      <td>1</td>\n",
       "      <td>0</td>\n",
       "      <td>C</td>\n",
       "      <td>0</td>\n",
       "      <td>0</td>\n",
       "      <td>True</td>\n",
       "      <td>40.0</td>\n",
       "      <td>...</td>\n",
       "      <td>1</td>\n",
       "      <td>0</td>\n",
       "      <td>1</td>\n",
       "      <td>0</td>\n",
       "      <td>0</td>\n",
       "      <td>0</td>\n",
       "      <td>0</td>\n",
       "      <td>0</td>\n",
       "      <td>1</td>\n",
       "      <td>0</td>\n",
       "    </tr>\n",
       "    <tr>\n",
       "      <th>2</th>\n",
       "      <td>1</td>\n",
       "      <td>3</td>\n",
       "      <td>female</td>\n",
       "      <td>0</td>\n",
       "      <td>0</td>\n",
       "      <td>S</td>\n",
       "      <td>0</td>\n",
       "      <td>0</td>\n",
       "      <td>False</td>\n",
       "      <td>30.0</td>\n",
       "      <td>...</td>\n",
       "      <td>1</td>\n",
       "      <td>0</td>\n",
       "      <td>0</td>\n",
       "      <td>0</td>\n",
       "      <td>1</td>\n",
       "      <td>1</td>\n",
       "      <td>0</td>\n",
       "      <td>0</td>\n",
       "      <td>0</td>\n",
       "      <td>0</td>\n",
       "    </tr>\n",
       "    <tr>\n",
       "      <th>3</th>\n",
       "      <td>1</td>\n",
       "      <td>1</td>\n",
       "      <td>female</td>\n",
       "      <td>1</td>\n",
       "      <td>0</td>\n",
       "      <td>S</td>\n",
       "      <td>0</td>\n",
       "      <td>0</td>\n",
       "      <td>True</td>\n",
       "      <td>40.0</td>\n",
       "      <td>...</td>\n",
       "      <td>1</td>\n",
       "      <td>0</td>\n",
       "      <td>0</td>\n",
       "      <td>0</td>\n",
       "      <td>1</td>\n",
       "      <td>0</td>\n",
       "      <td>0</td>\n",
       "      <td>1</td>\n",
       "      <td>0</td>\n",
       "      <td>0</td>\n",
       "    </tr>\n",
       "    <tr>\n",
       "      <th>4</th>\n",
       "      <td>0</td>\n",
       "      <td>3</td>\n",
       "      <td>male</td>\n",
       "      <td>0</td>\n",
       "      <td>0</td>\n",
       "      <td>S</td>\n",
       "      <td>1</td>\n",
       "      <td>0</td>\n",
       "      <td>False</td>\n",
       "      <td>40.0</td>\n",
       "      <td>...</td>\n",
       "      <td>0</td>\n",
       "      <td>1</td>\n",
       "      <td>0</td>\n",
       "      <td>0</td>\n",
       "      <td>1</td>\n",
       "      <td>1</td>\n",
       "      <td>0</td>\n",
       "      <td>0</td>\n",
       "      <td>0</td>\n",
       "      <td>0</td>\n",
       "    </tr>\n",
       "  </tbody>\n",
       "</table>\n",
       "<p>5 rows × 21 columns</p>\n",
       "</div>"
      ],
      "text/plain": [
       "   Survived  Pclass     Sex  SibSp  Parch Embarked  Lone_male_passenger  \\\n",
       "0         0       3    male      1      0        S                    0   \n",
       "1         1       1  female      1      0        C                    0   \n",
       "2         1       3  female      0      0        S                    0   \n",
       "3         1       1  female      1      0        S                    0   \n",
       "4         0       3    male      0      0        S                    1   \n",
       "\n",
       "   Not_alone_male_passenger  Known_Cabin  Round_Age  ... Sex_female  Sex_male  \\\n",
       "0                         1        False       30.0  ...          0         1   \n",
       "1                         0         True       40.0  ...          1         0   \n",
       "2                         0        False       30.0  ...          1         0   \n",
       "3                         0         True       40.0  ...          1         0   \n",
       "4                         0        False       40.0  ...          0         1   \n",
       "\n",
       "   Embarked_C  Embarked_Q  Embarked_S  Round_Fare_1.0  Round_Fare_2.0  \\\n",
       "0           0           0           1               1               0   \n",
       "1           1           0           0               0               0   \n",
       "2           0           0           1               1               0   \n",
       "3           0           0           1               0               0   \n",
       "4           0           0           1               1               0   \n",
       "\n",
       "   Round_Fare_3.0  Round_Fare_4.0  Round_Fare_5.0  \n",
       "0               0               0               0  \n",
       "1               0               1               0  \n",
       "2               0               0               0  \n",
       "3               1               0               0  \n",
       "4               0               0               0  \n",
       "\n",
       "[5 rows x 21 columns]"
      ]
     },
     "execution_count": 21,
     "metadata": {},
     "output_type": "execute_result"
    }
   ],
   "source": [
    "new_df = pd.concat([df, pd.get_dummies(cat_fs)], axis = 1)\n",
    "new_df.head()"
   ]
  },
  {
   "cell_type": "code",
   "execution_count": 22,
   "metadata": {},
   "outputs": [],
   "source": [
    "new_df.drop(['Sex', 'Embarked', 'Round_Fare'], axis =1, inplace = True)"
   ]
  },
  {
   "cell_type": "code",
   "execution_count": 23,
   "metadata": {},
   "outputs": [
    {
     "name": "stdout",
     "output_type": "stream",
     "text": [
      "<class 'pandas.core.frame.DataFrame'>\n",
      "RangeIndex: 891 entries, 0 to 890\n",
      "Data columns (total 18 columns):\n",
      " #   Column                    Non-Null Count  Dtype  \n",
      "---  ------                    --------------  -----  \n",
      " 0   Survived                  891 non-null    int64  \n",
      " 1   Pclass                    891 non-null    int64  \n",
      " 2   SibSp                     891 non-null    int64  \n",
      " 3   Parch                     891 non-null    int64  \n",
      " 4   Lone_male_passenger       891 non-null    int32  \n",
      " 5   Not_alone_male_passenger  891 non-null    int32  \n",
      " 6   Known_Cabin               891 non-null    bool   \n",
      " 7   Round_Age                 891 non-null    float64\n",
      " 8   Sex_female                891 non-null    uint8  \n",
      " 9   Sex_male                  891 non-null    uint8  \n",
      " 10  Embarked_C                891 non-null    uint8  \n",
      " 11  Embarked_Q                891 non-null    uint8  \n",
      " 12  Embarked_S                891 non-null    uint8  \n",
      " 13  Round_Fare_1.0            891 non-null    uint8  \n",
      " 14  Round_Fare_2.0            891 non-null    uint8  \n",
      " 15  Round_Fare_3.0            891 non-null    uint8  \n",
      " 16  Round_Fare_4.0            891 non-null    uint8  \n",
      " 17  Round_Fare_5.0            891 non-null    uint8  \n",
      "dtypes: bool(1), float64(1), int32(2), int64(4), uint8(10)\n",
      "memory usage: 51.5 KB\n"
     ]
    }
   ],
   "source": [
    "new_df.info()"
   ]
  },
  {
   "cell_type": "markdown",
   "metadata": {},
   "source": [
    "## Random forest and grad boosting"
   ]
  },
  {
   "cell_type": "code",
   "execution_count": 24,
   "metadata": {},
   "outputs": [],
   "source": [
    "from sklearn.ensemble import RandomForestClassifier\n",
    "import xgboost as xgb\n",
    "from sklearn.model_selection import cross_validate, StratifiedShuffleSplit, GridSearchCV, train_test_split, RandomizedSearchCV\n",
    "from sklearn.metrics import confusion_matrix, f1_score, roc_auc_score, make_scorer, accuracy_score"
   ]
  },
  {
   "cell_type": "markdown",
   "metadata": {},
   "source": [
    "### Baseline"
   ]
  },
  {
   "cell_type": "code",
   "execution_count": 25,
   "metadata": {},
   "outputs": [],
   "source": [
    "X_train, X_test, y_train, y_test = train_test_split(new_df.drop('Survived', axis = 1), new_df['Survived'], test_size = 0.25)"
   ]
  },
  {
   "cell_type": "code",
   "execution_count": 26,
   "metadata": {},
   "outputs": [],
   "source": [
    "cls_forest = RandomForestClassifier()\n",
    "cls_xgb = xgb.XGBClassifier(booster = 'gbtree')\n",
    "scoring = {'f1': make_scorer(f1_score), 'ROC_AUC': make_scorer(roc_auc_score), 'accure': make_scorer(accuracy_score)}\n",
    "CV = StratifiedShuffleSplit(test_size = 0.3)"
   ]
  },
  {
   "cell_type": "code",
   "execution_count": 27,
   "metadata": {},
   "outputs": [
    {
     "name": "stdout",
     "output_type": "stream",
     "text": [
      "xgb, f1-score: [0.748 0.803 0.803 0.742 0.766 0.781 0.786 0.735 0.774 0.72 ] mean: 0.7657999999999999\n",
      "xgb, roc_auc-score: [0.797 0.839 0.84  0.791 0.81  0.823 0.825 0.788 0.817 0.774] mean: 0.8103999999999999\n",
      "xgb, accuracy-score: [0.826 0.856 0.851 0.806 0.836 0.836 0.851 0.821 0.826 0.791] mean: 0.8299999999999998\n"
     ]
    }
   ],
   "source": [
    "score_cross_xgb = cross_validate(cls_xgb, X_train, y_train, scoring = scoring, cv = CV)\n",
    "\n",
    "print('xgb, f1-score:', np.around(score_cross_xgb['test_f1'], decimals = 3), \n",
    "                'mean:', np.around(score_cross_xgb['test_f1'], decimals = 3).mean())\n",
    "\n",
    "print('xgb, roc_auc-score:', np.around(score_cross_xgb['test_ROC_AUC'], decimals = 3),\n",
    "                     'mean:', np.around(score_cross_xgb['test_ROC_AUC'], decimals = 3).mean())\n",
    "\n",
    "print('xgb, accuracy-score:', np.around(score_cross_xgb['test_accure'], decimals = 3),\n",
    "                     'mean:', np.around(score_cross_xgb['test_accure'], decimals = 3).mean())"
   ]
  },
  {
   "cell_type": "code",
   "execution_count": 28,
   "metadata": {},
   "outputs": [
    {
     "name": "stdout",
     "output_type": "stream",
     "text": [
      "forest, f1-score: [0.731 0.737 0.757 0.731 0.776 0.772 0.718 0.707 0.764 0.687] mean: 0.7380000000000001\n",
      "forest, roc_auc-score: [0.784 0.787 0.803 0.784 0.819 0.815 0.771 0.764 0.809 0.754] mean: 0.789\n",
      "forest, accuracy-score: [0.806 0.801 0.821 0.806 0.831 0.836 0.781 0.781 0.831 0.791] mean: 0.8085000000000001\n"
     ]
    }
   ],
   "source": [
    "score_cross_forest = cross_validate(cls_forest, X_train, y_train, scoring = scoring, cv = CV)\n",
    "\n",
    "print('forest, f1-score:', np.around(score_cross_forest['test_f1'], decimals = 3), \n",
    "                                                      'mean:', np.around(score_cross_forest['test_f1'], decimals = 3).mean())\n",
    "\n",
    "print('forest, roc_auc-score:', np.around(score_cross_forest['test_ROC_AUC'], decimals = 3),\n",
    "                                                 'mean:', np.around(score_cross_forest['test_ROC_AUC'], decimals = 3).mean())\n",
    "\n",
    "print('forest, accuracy-score:', np.around(score_cross_forest['test_accure'], decimals = 3),\n",
    "                                                 'mean:', np.around(score_cross_forest['test_accure'], decimals = 3).mean())"
   ]
  },
  {
   "cell_type": "markdown",
   "metadata": {},
   "source": [
    "There is'nt significant differences between two models, that way I'll train both models"
   ]
  },
  {
   "cell_type": "markdown",
   "metadata": {},
   "source": [
    "### Forest"
   ]
  },
  {
   "cell_type": "code",
   "execution_count": 30,
   "metadata": {},
   "outputs": [],
   "source": [
    "cls_forest = RandomForestClassifier()\n",
    "CV = StratifiedShuffleSplit(test_size = 0.3)\n",
    "params = {'n_estimators': [2000], 'max_depth': [2, 3]}\n",
    "grid_search = GridSearchCV(cls_forest, params, cv = CV, scoring = make_scorer(f1_score), n_jobs = -1)"
   ]
  },
  {
   "cell_type": "code",
   "execution_count": 31,
   "metadata": {},
   "outputs": [],
   "source": [
    "X_train, X_test, y_train, y_test = train_test_split(new_df.drop('Survived', axis = 1), new_df['Survived'], test_size = 0.25)"
   ]
  },
  {
   "cell_type": "code",
   "execution_count": 32,
   "metadata": {},
   "outputs": [
    {
     "data": {
      "text/plain": [
       "GridSearchCV(cv=StratifiedShuffleSplit(n_splits=10, random_state=None, test_size=0.3,\n",
       "            train_size=None),\n",
       "             error_score=nan,\n",
       "             estimator=RandomForestClassifier(bootstrap=True, ccp_alpha=0.0,\n",
       "                                              class_weight=None,\n",
       "                                              criterion='gini', max_depth=None,\n",
       "                                              max_features='auto',\n",
       "                                              max_leaf_nodes=None,\n",
       "                                              max_samples=None,\n",
       "                                              min_impurity_decrease=0.0,\n",
       "                                              min_impurity_split=None,\n",
       "                                              min_samples_leaf=1,\n",
       "                                              min_samples_split=2,\n",
       "                                              min_weight_fraction_leaf=0.0,\n",
       "                                              n_estimators=100, n_jobs=None,\n",
       "                                              oob_score=False,\n",
       "                                              random_state=None, verbose=0,\n",
       "                                              warm_start=False),\n",
       "             iid='deprecated', n_jobs=-1,\n",
       "             param_grid={'max_depth': [2, 3], 'n_estimators': [2000]},\n",
       "             pre_dispatch='2*n_jobs', refit=True, return_train_score=False,\n",
       "             scoring=make_scorer(f1_score), verbose=0)"
      ]
     },
     "execution_count": 32,
     "metadata": {},
     "output_type": "execute_result"
    }
   ],
   "source": [
    "grid_search.fit(X_train, y_train)"
   ]
  },
  {
   "cell_type": "code",
   "execution_count": 33,
   "metadata": {},
   "outputs": [
    {
     "name": "stdout",
     "output_type": "stream",
     "text": [
      "Best_params:  {'max_depth': 3, 'n_estimators': 2000}\n",
      "Best_score:  0.6879496314831414\n"
     ]
    }
   ],
   "source": [
    "bst_est_forest = grid_search.best_estimator_\n",
    "print('Best_params: ', grid_search.best_params_)\n",
    "print('Best_score: ', grid_search.best_score_)"
   ]
  },
  {
   "cell_type": "code",
   "execution_count": 34,
   "metadata": {},
   "outputs": [],
   "source": [
    "y_pred = bst_est_forest.predict(X_test)"
   ]
  },
  {
   "cell_type": "code",
   "execution_count": 35,
   "metadata": {},
   "outputs": [
    {
     "name": "stdout",
     "output_type": "stream",
     "text": [
      "Matrix of TP, FP, FN, TN:\n",
      " [[128  17]\n",
      " [ 23  55]]\n",
      "F-score: 0.7333333333333334\n",
      "ROC_AUC-score: 0.7939434129089302\n"
     ]
    }
   ],
   "source": [
    "print('Matrix of TP, FP, FN, TN:\\n', confusion_matrix(y_test, y_pred))\n",
    "print('F-score:', f1_score(y_test, y_pred))\n",
    "print('ROC_AUC-score:', roc_auc_score(y_test, y_pred))"
   ]
  },
  {
   "cell_type": "markdown",
   "metadata": {},
   "source": [
    "### Gradient boosting trees"
   ]
  },
  {
   "cell_type": "code",
   "execution_count": 36,
   "metadata": {},
   "outputs": [],
   "source": [
    "cls_xgb = xgb.XGBClassifier()\n",
    "\n",
    "params = {'n_estimators': list(range(70, 500, 30)), 'max_depth': [2, 3, 4], 'booster': ['gbtree', 'dart'],\n",
    "          'min_samples_split': [2, 3, 4], 'min_samples_leaf': [2, 3, 4], 'eta': [0.01, 0.05, 0.1, 0.5, 1]}\n",
    "rand_search_xgb = RandomizedSearchCV(cls_xgb, params, cv = CV, scoring = make_scorer(roc_auc_score), n_jobs = -1)"
   ]
  },
  {
   "cell_type": "code",
   "execution_count": 37,
   "metadata": {},
   "outputs": [
    {
     "data": {
      "text/plain": [
       "RandomizedSearchCV(cv=StratifiedShuffleSplit(n_splits=10, random_state=None, test_size=0.3,\n",
       "            train_size=None),\n",
       "                   error_score=nan,\n",
       "                   estimator=XGBClassifier(base_score=0.5, booster='gbtree',\n",
       "                                           colsample_bylevel=1,\n",
       "                                           colsample_bynode=1,\n",
       "                                           colsample_bytree=1, gamma=0,\n",
       "                                           learning_rate=0.1, max_delta_step=0,\n",
       "                                           max_depth=3, min_child_weight=1,\n",
       "                                           missing=None, n_estimators=100,\n",
       "                                           n_jobs=1, n...\n",
       "                   param_distributions={'booster': ['gbtree', 'dart'],\n",
       "                                        'eta': [0.01, 0.05, 0.1, 0.5, 1],\n",
       "                                        'max_depth': [2, 3, 4],\n",
       "                                        'min_samples_leaf': [2, 3, 4],\n",
       "                                        'min_samples_split': [2, 3, 4],\n",
       "                                        'n_estimators': [70, 100, 130, 160, 190,\n",
       "                                                         220, 250, 280, 310,\n",
       "                                                         340, 370, 400, 430,\n",
       "                                                         460, 490]},\n",
       "                   pre_dispatch='2*n_jobs', random_state=None, refit=True,\n",
       "                   return_train_score=False, scoring=make_scorer(roc_auc_score),\n",
       "                   verbose=0)"
      ]
     },
     "execution_count": 37,
     "metadata": {},
     "output_type": "execute_result"
    }
   ],
   "source": [
    "rand_search_xgb.fit(X_train, y_train)"
   ]
  },
  {
   "cell_type": "code",
   "execution_count": 38,
   "metadata": {},
   "outputs": [
    {
     "name": "stdout",
     "output_type": "stream",
     "text": [
      "Best_params: {'n_estimators': 370, 'min_samples_split': 2, 'min_samples_leaf': 2, 'max_depth': 2, 'eta': 0.1, 'booster': 'dart'}\n",
      "Best_score: 0.8217731894583938\n"
     ]
    }
   ],
   "source": [
    "bst_est_xgb = rand_search_xgb.best_estimator_\n",
    "print('Best_params:', rand_search_xgb.best_params_)\n",
    "print('Best_score:', rand_search_xgb.best_score_)"
   ]
  },
  {
   "cell_type": "code",
   "execution_count": 39,
   "metadata": {},
   "outputs": [
    {
     "name": "stdout",
     "output_type": "stream",
     "text": [
      "Matrix of TP, FP, FN, TN:\n",
      " [[129  16]\n",
      " [ 19  59]]\n",
      "F-score: 0.7712418300653594\n",
      "ROC_AUC-score: 0.8230327144120247\n"
     ]
    }
   ],
   "source": [
    "y_pred = bst_est_xgb.predict(X_test)\n",
    "print('Matrix of TP, FP, FN, TN:\\n', confusion_matrix(y_test, y_pred))\n",
    "print('F-score:', f1_score(y_test, y_pred))\n",
    "print('ROC_AUC-score:', roc_auc_score(y_test, y_pred))"
   ]
  },
  {
   "cell_type": "markdown",
   "metadata": {},
   "source": [
    "## Solution on test sample"
   ]
  },
  {
   "cell_type": "code",
   "execution_count": 40,
   "metadata": {
    "scrolled": true
   },
   "outputs": [
    {
     "data": {
      "text/html": [
       "<div>\n",
       "<style scoped>\n",
       "    .dataframe tbody tr th:only-of-type {\n",
       "        vertical-align: middle;\n",
       "    }\n",
       "\n",
       "    .dataframe tbody tr th {\n",
       "        vertical-align: top;\n",
       "    }\n",
       "\n",
       "    .dataframe thead th {\n",
       "        text-align: right;\n",
       "    }\n",
       "</style>\n",
       "<table border=\"1\" class=\"dataframe\">\n",
       "  <thead>\n",
       "    <tr style=\"text-align: right;\">\n",
       "      <th></th>\n",
       "      <th>Pclass</th>\n",
       "      <th>Name</th>\n",
       "      <th>Sex</th>\n",
       "      <th>Age</th>\n",
       "      <th>SibSp</th>\n",
       "      <th>Parch</th>\n",
       "      <th>Fare</th>\n",
       "      <th>Cabin</th>\n",
       "      <th>Embarked</th>\n",
       "    </tr>\n",
       "  </thead>\n",
       "  <tbody>\n",
       "    <tr>\n",
       "      <th>0</th>\n",
       "      <td>3</td>\n",
       "      <td>Kelly, Mr. James</td>\n",
       "      <td>male</td>\n",
       "      <td>34.5</td>\n",
       "      <td>0</td>\n",
       "      <td>0</td>\n",
       "      <td>7.8292</td>\n",
       "      <td>NaN</td>\n",
       "      <td>Q</td>\n",
       "    </tr>\n",
       "    <tr>\n",
       "      <th>1</th>\n",
       "      <td>3</td>\n",
       "      <td>Wilkes, Mrs. James (Ellen Needs)</td>\n",
       "      <td>female</td>\n",
       "      <td>47.0</td>\n",
       "      <td>1</td>\n",
       "      <td>0</td>\n",
       "      <td>7.0000</td>\n",
       "      <td>NaN</td>\n",
       "      <td>S</td>\n",
       "    </tr>\n",
       "  </tbody>\n",
       "</table>\n",
       "</div>"
      ],
      "text/plain": [
       "   Pclass                              Name     Sex   Age  SibSp  Parch  \\\n",
       "0       3                  Kelly, Mr. James    male  34.5      0      0   \n",
       "1       3  Wilkes, Mrs. James (Ellen Needs)  female  47.0      1      0   \n",
       "\n",
       "     Fare Cabin Embarked  \n",
       "0  7.8292   NaN        Q  \n",
       "1  7.0000   NaN        S  "
      ]
     },
     "execution_count": 40,
     "metadata": {},
     "output_type": "execute_result"
    }
   ],
   "source": [
    "test_df = pd.read_csv('test.csv')\n",
    "test_df.drop(['PassengerId', 'Ticket'], axis = 1, inplace = True)\n",
    "test_df.head(2)"
   ]
  },
  {
   "cell_type": "code",
   "execution_count": 41,
   "metadata": {},
   "outputs": [],
   "source": [
    "med = test_df.Fare.median()\n",
    "test_df.Fare = test_df.Fare.apply(lambda x: med if x!=x else x)"
   ]
  },
  {
   "cell_type": "code",
   "execution_count": 42,
   "metadata": {},
   "outputs": [],
   "source": [
    "test_df['Family'] = test_df.SibSp + test_df.Parch\n",
    "test_df['Greeting'] = test_df.Name.apply(lambda name: name[name.index(',') + 1 : name.index('.')])\n",
    "test_df['Known_Cabin'] = test_df.Cabin.notnull()\n",
    "\n",
    "\n",
    "test_df['Round_Fare'] = cat_fare(np.around(test_df.Fare, -1))\n",
    "test_df['Round_Age'] = np.around(test_df.Age, -1)\n",
    "test_df['Lone_male_passenger'] = np.where((test_df['Family'] == 0) & (test_df['Sex'] == 'male'), 1, 0)\n",
    "test_df['Not_alone_male_passenger'] = np.where((test_df['Family'] != 0) & (test_df['Sex'] == 'male') & (test_df['Age'] > 20), 1, 0)\n",
    "\n",
    "greet_na = test_df.Greeting[test_df.Age.isnull()].value_counts().index\n",
    "dit = {x: test_df[(test_df['Greeting'] == x) & (test_df.Age.notnull())].Age.median() for x in greet_na}\n",
    "for i in test_df.index:\n",
    "    if test_df.loc[i, 'Age'] != test_df.loc[i, 'Age']:\n",
    "        test_df.loc[i, 'Age'] = dit[test_df.loc[i, 'Greeting']]\n",
    "      \n",
    "test_df.drop(['Greeting', 'Cabin', 'Name', 'Family', 'Age', 'Fare'], axis = 1, inplace = True)\n",
    "\n",
    "cat_fs = test_df.select_dtypes('O')\n",
    "new_test_df = pd.concat([test_df, pd.get_dummies(cat_fs)], axis = 1)\n",
    "new_test_df.drop(['Embarked', 'Sex', 'Round_Fare'], axis = 1, inplace = True)"
   ]
  },
  {
   "cell_type": "code",
   "execution_count": 44,
   "metadata": {},
   "outputs": [],
   "source": [
    "x_test = new_test_df\n",
    "y_pred = bst_est_forest.predict(x_test)"
   ]
  },
  {
   "cell_type": "code",
   "execution_count": 154,
   "metadata": {},
   "outputs": [
    {
     "data": {
      "text/html": [
       "<div>\n",
       "<style scoped>\n",
       "    .dataframe tbody tr th:only-of-type {\n",
       "        vertical-align: middle;\n",
       "    }\n",
       "\n",
       "    .dataframe tbody tr th {\n",
       "        vertical-align: top;\n",
       "    }\n",
       "\n",
       "    .dataframe thead th {\n",
       "        text-align: right;\n",
       "    }\n",
       "</style>\n",
       "<table border=\"1\" class=\"dataframe\">\n",
       "  <thead>\n",
       "    <tr style=\"text-align: right;\">\n",
       "      <th></th>\n",
       "      <th>PassengerId</th>\n",
       "      <th>Survived</th>\n",
       "    </tr>\n",
       "  </thead>\n",
       "  <tbody>\n",
       "    <tr>\n",
       "      <th>0</th>\n",
       "      <td>892</td>\n",
       "      <td>0</td>\n",
       "    </tr>\n",
       "    <tr>\n",
       "      <th>1</th>\n",
       "      <td>893</td>\n",
       "      <td>1</td>\n",
       "    </tr>\n",
       "    <tr>\n",
       "      <th>2</th>\n",
       "      <td>894</td>\n",
       "      <td>0</td>\n",
       "    </tr>\n",
       "    <tr>\n",
       "      <th>3</th>\n",
       "      <td>895</td>\n",
       "      <td>0</td>\n",
       "    </tr>\n",
       "    <tr>\n",
       "      <th>4</th>\n",
       "      <td>896</td>\n",
       "      <td>1</td>\n",
       "    </tr>\n",
       "    <tr>\n",
       "      <th>...</th>\n",
       "      <td>...</td>\n",
       "      <td>...</td>\n",
       "    </tr>\n",
       "    <tr>\n",
       "      <th>413</th>\n",
       "      <td>1305</td>\n",
       "      <td>0</td>\n",
       "    </tr>\n",
       "    <tr>\n",
       "      <th>414</th>\n",
       "      <td>1306</td>\n",
       "      <td>1</td>\n",
       "    </tr>\n",
       "    <tr>\n",
       "      <th>415</th>\n",
       "      <td>1307</td>\n",
       "      <td>0</td>\n",
       "    </tr>\n",
       "    <tr>\n",
       "      <th>416</th>\n",
       "      <td>1308</td>\n",
       "      <td>0</td>\n",
       "    </tr>\n",
       "    <tr>\n",
       "      <th>417</th>\n",
       "      <td>1309</td>\n",
       "      <td>0</td>\n",
       "    </tr>\n",
       "  </tbody>\n",
       "</table>\n",
       "<p>418 rows × 2 columns</p>\n",
       "</div>"
      ],
      "text/plain": [
       "     PassengerId  Survived\n",
       "0            892         0\n",
       "1            893         1\n",
       "2            894         0\n",
       "3            895         0\n",
       "4            896         1\n",
       "..           ...       ...\n",
       "413         1305         0\n",
       "414         1306         1\n",
       "415         1307         0\n",
       "416         1308         0\n",
       "417         1309         0\n",
       "\n",
       "[418 rows x 2 columns]"
      ]
     },
     "execution_count": 154,
     "metadata": {},
     "output_type": "execute_result"
    }
   ],
   "source": [
    "answer = pd.DataFrame({'PassengerId': list(range(892, 891+419)), 'Survived': y_pred})\n",
    "answer"
   ]
  },
  {
   "cell_type": "code",
   "execution_count": 155,
   "metadata": {},
   "outputs": [],
   "source": [
    "answer.to_csv('Answer_titanic', index = False)"
   ]
  },
  {
   "cell_type": "markdown",
   "metadata": {},
   "source": [
    "Идеи для создания признаков: \n",
    "* сделать признак-индикатор одинок ли пассажир, \n",
    "* является ли взрослым мужчиной\n"
   ]
  },
  {
   "cell_type": "markdown",
   "metadata": {},
   "source": [
    "ошибка состоит из 3 частей: шум, смещение, разброс. Ошибка алгоритма реш деревьев обладает низким смещением, но высоким рзбросом. Чтобы избежать высокой дисперсии ошибок алгоритма необходимо сделать деревья в композиции более независимыми (менее коррелироваными) .\n",
    "С этой задачей могут справится беггинг и метод случайных подпространств. (Взять не n признаков, а корень из n признаков)\n",
    "файл 4-2 в конспектах с курсеры"
   ]
  },
  {
   "cell_type": "code",
   "execution_count": null,
   "metadata": {},
   "outputs": [],
   "source": []
  }
 ],
 "metadata": {
  "kernelspec": {
   "display_name": "Python 3",
   "language": "python",
   "name": "python3"
  },
  "language_info": {
   "codemirror_mode": {
    "name": "ipython",
    "version": 3
   },
   "file_extension": ".py",
   "mimetype": "text/x-python",
   "name": "python",
   "nbconvert_exporter": "python",
   "pygments_lexer": "ipython3",
   "version": "3.6.5"
  }
 },
 "nbformat": 4,
 "nbformat_minor": 4
}
